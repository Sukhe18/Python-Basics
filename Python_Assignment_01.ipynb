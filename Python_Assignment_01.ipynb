{
  "cells": [
    {
      "cell_type": "markdown",
      "metadata": {
        "id": "pfyFWVuQa_Ut"
      },
      "source": [
        "# Python Basics Assignment\n",
        "\n",
        "\n",
        "\n",
        "\n"
      ]
    },
    {
      "cell_type": "markdown",
      "metadata": {
        "id": "BscywTV9bVsE"
      },
      "source": [
        "#Question:-"
      ]
    },
    {
      "cell_type": "markdown",
      "metadata": {
        "id": "AMGqvSi_y76X"
      },
      "source": [
        "01. What is Python, and why is it popular?\n",
        "  -\n",
        "  Python is a high-level interpreted programming language knows for its readability and simplicity.\n",
        "  -It follows a functional, object-oriented programming language, which means it's organized around objects rather than actions and makes it efficient for developers.\n",
        "  -Created by Guido van Rossum in 1991.\n",
        "\n",
        "  It is popular:-\n",
        "  \n",
        "  -Easy to learn\n",
        "\n",
        "  -Open source\n",
        "  \n",
        "  -Large collection of library, function and modules\n",
        "\n",
        "  -Effective and multiplatform support\n",
        "\n",
        "  -Adoptation in industries and academis.\n",
        "\n",
        "\n",
        "Q2 . What is an interpreter in Python?\n",
        "- Translates and executed the code line by line during runtime.\n",
        "\n",
        "\n",
        "Q3 . What are pre-defined keywords in Python?\n",
        "\n",
        "  - Keywords are predefined words that hold a special meaning and have specific perpose in python programming.\n",
        "\n",
        "\n",
        "Q4.  Can keywords be used as variable names?\n",
        "\n",
        "  - No keywords cannot be used as variable names.\n",
        "\n",
        "\n",
        "Q5.  What is mutability in Python?\n",
        "\n",
        "  - Mutability means whether an object can be changed after it is created.\n",
        "\n",
        "Q6.  Why are lists mutable, but tuples are immutable?\n",
        "\n",
        "   - A list can be modified, but a tuple cannot be modified.\n",
        "\n",
        "\n",
        "Q7.  What is the difference between “==” and “is” operators in Python?\n",
        "\n",
        "   - (==) help to checks if two variables point to the same object in memory and compares the contents of two variables.\n",
        "   - (is) helps to check if two variables point to the same object in memory.\n",
        "\n",
        "Q8.  What are logical operators in Python?\n",
        "\n",
        "  - Logical operators in Python are used to combine and manipulate Boolean values True or False.They are crucial for controlling program flow based on multiple conditions.\n",
        "\n",
        "Q9.  What is type casting in Python?\n",
        "\n",
        "   - Type casting in Python means converting the value of one data type into another.\n",
        "\n",
        "\n",
        "Q10.   What is the difference between implicit and explicit type casting?\n",
        "\n",
        "   - Implicit casting, also called automatic type conversion, is done automatically by the compiler when different data types are mixed in an expression. Explicit casting is performed manually by the programmer by explicitly specifying the desired data type.\n",
        "\n",
        "\n",
        "Q11.   What is the purpose of conditional statements in Python?\n",
        "\n",
        "   - Conditional statements help us to code decisions based on some precondition. (True or False)\n",
        "\n",
        "\n",
        "Q12.   How does the elif statement work ?\n",
        "\n",
        "  - The elif statement checks multiple conditions one by one after an if condition.   \n",
        "\n",
        "Q13.   What is the difference between for and while loops?\n",
        "\n",
        "  - or and while are looping structures used to repeat a block of code, but they are used in different situations.\n",
        "\n",
        "\n",
        "Q14.  Describe a scenario where a while loop is more suitable than a for       loop?\n",
        "\n",
        "  - A while loop is more suitable than a for loop when you don't know in advance how many times the loop should run.\n",
        "  -Unlike for loops, which are based on a fixed range or sequence, while loops are better when the program must wait for something to happen.\n",
        "\n",
        "Practical Questions:-\n",
        "\n",
        "    "
      ]
    },
    {
      "cell_type": "markdown",
      "metadata": {
        "id": "0HsGxscprubR"
      },
      "source": [
        "Q1. Write a Python program to print \"Hello, World!\"\n",
        "\n",
        "print(\"Hello, World!\")\n"
      ]
    },
    {
      "cell_type": "code",
      "execution_count": null,
      "metadata": {
        "colab": {
          "base_uri": "https://localhost:8080/"
        },
        "id": "J35FvRgmtbFn",
        "outputId": "b88a9797-8283-4fda-b2ae-ee7b97407719"
      },
      "outputs": [
        {
          "name": "stdout",
          "output_type": "stream",
          "text": [
            "Object `age` not found.\n",
            "My name is Sukhpreet\n",
            "I am 26 year old\n"
          ]
        }
      ],
      "source": [
        "Q2. Write a Python program that displays your name and age?\n",
        "\n",
        "name= \"Sukhpreet\"\n",
        "age= 26\n",
        "\n",
        "print(\"My name is\",name)\n",
        "print(\"I am\", age,\"year old\")"
      ]
    },
    {
      "cell_type": "code",
      "execution_count": null,
      "metadata": {
        "colab": {
          "base_uri": "https://localhost:8080/"
        },
        "id": "xi4nfCXgwuyv",
        "outputId": "f39c14c9-df9a-4ff7-fbe3-fbebc66554a1"
      },
      "outputs": [
        {
          "name": "stdout",
          "output_type": "stream",
          "text": [
            "Object `library` not found.\n",
            "\n",
            "Here is a list of the Python keywords.  Enter any keyword to get more help.\n",
            "\n",
            "False               class               from                or\n",
            "None                continue            global              pass\n",
            "True                def                 if                  raise\n",
            "and                 del                 import              return\n",
            "as                  elif                in                  try\n",
            "assert              else                is                  while\n",
            "async               except              lambda              with\n",
            "await               finally             nonlocal            yield\n",
            "break               for                 not                 \n",
            "\n"
          ]
        }
      ],
      "source": [
        "Q3. Write code to print all the pre-defined keywords in Python using the keyword library?\n",
        "\n",
        "help('keywords')"
      ]
    },
    {
      "cell_type": "code",
      "execution_count": null,
      "metadata": {
        "colab": {
          "background_save": true,
          "base_uri": "https://localhost:8080/"
        },
        "id": "TTorQMCm5kO1",
        "outputId": "5b2696c7-ddd9-4c5d-f416-799d57c56ef9"
      },
      "outputs": [
        {
          "name": "stdout",
          "output_type": "stream",
          "text": [
            "Object `keyword` not found.\n"
          ]
        }
      ],
      "source": [
        "Q4. Write a program that checks if a given word is a Python keyword?\n",
        "\n",
        "word = input(\"Word: \")\n",
        "print(word in keyword.kwlist)\n"
      ]
    },
    {
      "cell_type": "code",
      "execution_count": null,
      "metadata": {
        "id": "OlKr7LY-9L6X",
        "colab": {
          "base_uri": "https://localhost:8080/",
          "height": 106
        },
        "outputId": "f1b0c176-cdb8-4f12-c2ac-11d13e251eb8"
      },
      "outputs": [
        {
          "output_type": "error",
          "ename": "SyntaxError",
          "evalue": "invalid syntax (ipython-input-4-1442160700.py, line 1)",
          "traceback": [
            "\u001b[0;36m  File \u001b[0;32m\"/tmp/ipython-input-4-1442160700.py\"\u001b[0;36m, line \u001b[0;32m1\u001b[0m\n\u001b[0;31m    Q5. Create a list and tuple in Python, and demonstrate how attempting to change an element works differently\u001b[0m\n\u001b[0m               ^\u001b[0m\n\u001b[0;31mSyntaxError\u001b[0m\u001b[0;31m:\u001b[0m invalid syntax\n"
          ]
        }
      ],
      "source": [
        "Q5. Create a list and tuple in Python, and demonstrate how attempting to change an element works differently\n",
        "for each?\n",
        "\n",
        "my_list = [10, 20, 30]\n",
        "print(\"Original list:\", my_list)\n",
        "\n",
        "my_list[1] = 200\n",
        "print(\"Modified list:\", my_list)\n",
        "\n",
        "my_tuple = (10, 20, 30)\n",
        "print(\"Original tuple:\", my_tuple)\n",
        "\n",
        "List can be changed , but tuple cannot be changed.\n",
        "\n"
      ]
    },
    {
      "cell_type": "code",
      "source": [
        "Q6.  Write a function to demonstrate the behavior of mutable and immutable arguments.\n",
        "\n",
        "def modify_values(score, score_set):\n",
        "    score += 10.5\n",
        "    score_set.add(99)\n",
        "    print(\"Inside function:\")\n",
        "    print(\"score =\", score)\n",
        "    print(\"score_set =\", score_set)\n",
        "\n",
        "my_score = 89.5\n",
        "my_set = {45, 67}\n",
        "\n",
        "modify_values(my_score, my_set)\n",
        "\n",
        "print(\"Outside function:\")\n",
        "print(\"my_score =\", my_score)\n",
        "print(\"my_set =\", my_set)"
      ],
      "metadata": {
        "colab": {
          "base_uri": "https://localhost:8080/",
          "height": 106
        },
        "id": "T7zsWx-wvEEY",
        "outputId": "edb57ce9-7d0e-42c1-ef5c-42062ce98a94"
      },
      "execution_count": null,
      "outputs": [
        {
          "output_type": "error",
          "ename": "SyntaxError",
          "evalue": "invalid syntax (ipython-input-6-934964621.py, line 1)",
          "traceback": [
            "\u001b[0;36m  File \u001b[0;32m\"/tmp/ipython-input-6-934964621.py\"\u001b[0;36m, line \u001b[0;32m1\u001b[0m\n\u001b[0;31m    Q6.  Write a function to demonstrate the behavior of mutable and immutable arguments.\u001b[0m\n\u001b[0m               ^\u001b[0m\n\u001b[0;31mSyntaxError\u001b[0m\u001b[0;31m:\u001b[0m invalid syntax\n"
          ]
        }
      ]
    },
    {
      "cell_type": "code",
      "source": [
        "Q7.  Write a program that performs basic arithmetic operations on two user-input numbers\n",
        "\n",
        "  def calculate(a, b):\n",
        "    print(\"Addition:\", a + b)\n",
        "    print(\"Subtraction:\", a - b)\n",
        "    print(\"Multiplication:\", a * b)\n",
        "    if b != 0:\n",
        "        print(\"Division:\", a / b)\n",
        "    else:\n",
        "        print(\"Division: Cannot divide by zero\")\n",
        "\n",
        "x = float(input(\"Enter first number: \"))\n",
        "y = float(input(\"Enter second number: \"))"
      ],
      "metadata": {
        "colab": {
          "base_uri": "https://localhost:8080/",
          "height": 106
        },
        "id": "yL1TI-Fa0Prg",
        "outputId": "6eb32b3c-286d-47ea-f297-99b08f8e7d5c"
      },
      "execution_count": null,
      "outputs": [
        {
          "output_type": "error",
          "ename": "SyntaxError",
          "evalue": "invalid syntax (ipython-input-7-2819465275.py, line 1)",
          "traceback": [
            "\u001b[0;36m  File \u001b[0;32m\"/tmp/ipython-input-7-2819465275.py\"\u001b[0;36m, line \u001b[0;32m1\u001b[0m\n\u001b[0;31m    Q7.  Write a program that performs basic arithmetic operations on two user-input numbers\u001b[0m\n\u001b[0m               ^\u001b[0m\n\u001b[0;31mSyntaxError\u001b[0m\u001b[0;31m:\u001b[0m invalid syntax\n"
          ]
        }
      ]
    },
    {
      "cell_type": "code",
      "source": [
        "Q.8  Write a program to demonstrate the use of logical operators.\n",
        "\n",
        "   a = int(input(\"Enter first number: \"))\n",
        "b = int(input(\"Enter second number: \"))\n",
        "\n",
        "if a > 0 and b > 0:\n",
        "    print(\"Both numbers are positive\")\n",
        "else:\n",
        "    print(\"At least one number is not positive\")\n",
        "\n",
        "if a > 0 or b > 0:\n",
        "    print(\"At least one number is positive\")\n",
        "else:\n",
        "    print(\"Both numbers are not positive\")\n",
        "\n",
        "print(\"a is NOT greater than b:\", not (a > b))"
      ],
      "metadata": {
        "colab": {
          "base_uri": "https://localhost:8080/",
          "height": 106
        },
        "id": "7W6a8LRn3BGc",
        "outputId": "3660ece7-29ed-44dc-e6d9-dab61ce33631"
      },
      "execution_count": null,
      "outputs": [
        {
          "output_type": "error",
          "ename": "SyntaxError",
          "evalue": "invalid syntax (ipython-input-9-3805995228.py, line 1)",
          "traceback": [
            "\u001b[0;36m  File \u001b[0;32m\"/tmp/ipython-input-9-3805995228.py\"\u001b[0;36m, line \u001b[0;32m1\u001b[0m\n\u001b[0;31m    Q.8  Write a program to demonstrate the use of logical operators.\u001b[0m\n\u001b[0m     ^\u001b[0m\n\u001b[0;31mSyntaxError\u001b[0m\u001b[0;31m:\u001b[0m invalid syntax\n"
          ]
        }
      ]
    },
    {
      "cell_type": "code",
      "source": [
        "Q.9  Write a Python program to convert user input from string to integer, float, and boolean types.\n",
        "\n",
        "    val1 = input(\"Enter first value: \")\n",
        "val2 = input(\"Enter second value: \")\n",
        "\n",
        "try:\n",
        "    int1 = int(val1)\n",
        "    int2 = int(val2)\n",
        "    print(\"Sum of integers:\", int1 + int2)\n",
        "except ValueError:\n",
        "    print(\"Invalid integers\")\n",
        "\n",
        "try:\n",
        "    float1 = float(val1)\n",
        "    float2 = float(val2)\n",
        "    print(\"Sum of floats:\", float1 + float2)\n",
        "except ValueError:\n",
        "    print(\"Invalid floats\")\n",
        "\n",
        "bool1 = bool(val1)\n",
        "bool2 = bool(val2)\n",
        "print(\"Boolean AND:\", bool1 and bool2)\n",
        "print(\"Boolean OR:\", bool1 or bool2)"
      ],
      "metadata": {
        "colab": {
          "base_uri": "https://localhost:8080/",
          "height": 106
        },
        "id": "4qPwbCdB4arS",
        "outputId": "835ec1bc-8edb-4ba1-a5fd-e5a113757114"
      },
      "execution_count": null,
      "outputs": [
        {
          "output_type": "error",
          "ename": "SyntaxError",
          "evalue": "invalid syntax (ipython-input-10-139365376.py, line 1)",
          "traceback": [
            "\u001b[0;36m  File \u001b[0;32m\"/tmp/ipython-input-10-139365376.py\"\u001b[0;36m, line \u001b[0;32m1\u001b[0m\n\u001b[0;31m    Q.9  Write a Python program to convert user input from string to integer, float, and boolean types.\u001b[0m\n\u001b[0m     ^\u001b[0m\n\u001b[0;31mSyntaxError\u001b[0m\u001b[0;31m:\u001b[0m invalid syntax\n"
          ]
        }
      ]
    },
    {
      "cell_type": "code",
      "source": [
        "Q10.  Write code to demonstrate type casting with list elements.\n",
        "\n",
        "str_list = ['10', '20', '30', '40']\n",
        "\n",
        "int_list = [int(x) for x in str_list]\n",
        "print(\"Integer list:\", int_list)\n",
        "\n",
        "float_list = [float(x) for x in str_list]\n",
        "print(\"Float list:\", float_list)\n",
        "\n",
        "str_again_list = [str(x) for x in int_list]\n",
        "print(\"String list again:\", str_again_list)\n",
        "\n",
        "bool_list = [bool(x) for x in int_list]\n",
        "print(\"Boolean list:\", bool_list)"
      ],
      "metadata": {
        "colab": {
          "base_uri": "https://localhost:8080/",
          "height": 106
        },
        "id": "Vkgxf4v-5X2A",
        "outputId": "fe56c583-9f9c-4622-a4b4-b263671e0224"
      },
      "execution_count": null,
      "outputs": [
        {
          "output_type": "error",
          "ename": "SyntaxError",
          "evalue": "invalid syntax (ipython-input-11-2363361104.py, line 1)",
          "traceback": [
            "\u001b[0;36m  File \u001b[0;32m\"/tmp/ipython-input-11-2363361104.py\"\u001b[0;36m, line \u001b[0;32m1\u001b[0m\n\u001b[0;31m    Q11.  Write code to demonstrate type casting with list elements.\u001b[0m\n\u001b[0m                ^\u001b[0m\n\u001b[0;31mSyntaxError\u001b[0m\u001b[0;31m:\u001b[0m invalid syntax\n"
          ]
        }
      ]
    },
    {
      "cell_type": "code",
      "source": [
        "Q11.   Write a program that checks if a number is positive, negative, or zero.\n",
        "\n",
        "  num = float(input(\"Enter a number: \"))\n",
        "\n",
        "if num > 0:\n",
        "    print(\"The number is positive.\")\n",
        "elif num < 0:\n",
        "    print(\"The number is negative.\")\n",
        "else:\n",
        "    print(\"The number is zero.\")"
      ],
      "metadata": {
        "colab": {
          "base_uri": "https://localhost:8080/",
          "height": 106
        },
        "id": "kAYYzm0_6NiA",
        "outputId": "67df6b2e-0d37-4e0c-fca9-e4359c469992"
      },
      "execution_count": null,
      "outputs": [
        {
          "output_type": "error",
          "ename": "SyntaxError",
          "evalue": "invalid syntax (ipython-input-12-2862001747.py, line 1)",
          "traceback": [
            "\u001b[0;36m  File \u001b[0;32m\"/tmp/ipython-input-12-2862001747.py\"\u001b[0;36m, line \u001b[0;32m1\u001b[0m\n\u001b[0;31m    Q11.   Write a program that checks if a number is positive, negative, or zero.\u001b[0m\n\u001b[0m                 ^\u001b[0m\n\u001b[0;31mSyntaxError\u001b[0m\u001b[0;31m:\u001b[0m invalid syntax\n"
          ]
        }
      ]
    },
    {
      "cell_type": "code",
      "source": [
        "Q12.  Write a for loop to print numbers from 1 to 10.\n",
        "\n",
        "   for x in range(1, 11):\n",
        "    print(x)"
      ],
      "metadata": {
        "colab": {
          "base_uri": "https://localhost:8080/",
          "height": 106
        },
        "id": "p0tdZ9ZZ7wU1",
        "outputId": "98da6925-396b-420f-8c5d-c6cf5408e3c7"
      },
      "execution_count": null,
      "outputs": [
        {
          "output_type": "error",
          "ename": "SyntaxError",
          "evalue": "invalid syntax (ipython-input-13-1512988066.py, line 1)",
          "traceback": [
            "\u001b[0;36m  File \u001b[0;32m\"/tmp/ipython-input-13-1512988066.py\"\u001b[0;36m, line \u001b[0;32m1\u001b[0m\n\u001b[0;31m    Q12.  Write a for loop to print numbers from 1 to 10.\u001b[0m\n\u001b[0m                ^\u001b[0m\n\u001b[0;31mSyntaxError\u001b[0m\u001b[0;31m:\u001b[0m invalid syntax\n"
          ]
        }
      ]
    },
    {
      "cell_type": "code",
      "source": [
        "Q13.  Write a Python program to find the sum of all even numbers between 1 and 50?\n",
        "\n",
        "   sum_even = 0\n",
        "\n",
        "for i in range(1, 51):\n",
        "    if i % 2 == 0:\n",
        "        sum_even += i\n",
        "\n",
        "print(\"Sum of even numbers from 1 to 50 is:\", sum_even)\n"
      ],
      "metadata": {
        "colab": {
          "base_uri": "https://localhost:8080/",
          "height": 106
        },
        "id": "6vfVPwAc8d-A",
        "outputId": "9a2d7dfe-83f5-40c1-ebf6-e961849cb85e"
      },
      "execution_count": null,
      "outputs": [
        {
          "output_type": "error",
          "ename": "SyntaxError",
          "evalue": "invalid syntax (ipython-input-15-3850319213.py, line 1)",
          "traceback": [
            "\u001b[0;36m  File \u001b[0;32m\"/tmp/ipython-input-15-3850319213.py\"\u001b[0;36m, line \u001b[0;32m1\u001b[0m\n\u001b[0;31m    Q13.  Write a Python program to find the sum of all even numbers between 1 and 50?\u001b[0m\n\u001b[0m                ^\u001b[0m\n\u001b[0;31mSyntaxError\u001b[0m\u001b[0;31m:\u001b[0m invalid syntax\n"
          ]
        }
      ]
    },
    {
      "cell_type": "code",
      "source": [
        "Q14. Write a program to reverse a string using a while loop?\n",
        "\n",
        "  text = input(\"Enter a string: \")\n",
        "reversed_text = \"\"\n",
        "index = len(text) - 1\n",
        "\n",
        "while index >= 0:\n",
        "    reversed_text += text[index]\n",
        "    index -= 1\n",
        "\n",
        "print(\"Reversed string:\", reversed_text)\n"
      ],
      "metadata": {
        "colab": {
          "base_uri": "https://localhost:8080/",
          "height": 106
        },
        "id": "-PpY2T9H9ouZ",
        "outputId": "3114e727-de35-409a-f6e6-778cffc7d38b"
      },
      "execution_count": null,
      "outputs": [
        {
          "output_type": "error",
          "ename": "IndentationError",
          "evalue": "unexpected indent (ipython-input-16-2612079374.py, line 3)",
          "traceback": [
            "\u001b[0;36m  File \u001b[0;32m\"/tmp/ipython-input-16-2612079374.py\"\u001b[0;36m, line \u001b[0;32m3\u001b[0m\n\u001b[0;31m    text = input(\"Enter a string: \")\u001b[0m\n\u001b[0m    ^\u001b[0m\n\u001b[0;31mIndentationError\u001b[0m\u001b[0;31m:\u001b[0m unexpected indent\n"
          ]
        }
      ]
    },
    {
      "cell_type": "code",
      "source": [
        "Q15.  Write a Python program to calculate the factorial of a number provided by the user using a while loop.\n",
        "\n",
        "     num = int(input(\"Enter a number: \"))\n",
        "factorial = 1\n",
        "i = 1\n",
        "\n",
        "while i <= num:\n",
        "    factorial *= i\n",
        "    i += 1\n",
        "\n",
        "print(\"Factorial of\", num, \"is:\", factorial)\n"
      ],
      "metadata": {
        "colab": {
          "base_uri": "https://localhost:8080/",
          "height": 106
        },
        "id": "DBLeuv6m-mkk",
        "outputId": "72c92e1f-f84f-4066-b23e-4126a0a64d43"
      },
      "execution_count": null,
      "outputs": [
        {
          "output_type": "error",
          "ename": "SyntaxError",
          "evalue": "invalid syntax (ipython-input-17-2082977241.py, line 1)",
          "traceback": [
            "\u001b[0;36m  File \u001b[0;32m\"/tmp/ipython-input-17-2082977241.py\"\u001b[0;36m, line \u001b[0;32m1\u001b[0m\n\u001b[0;31m    Q15.  Write a Python program to calculate the factorial of a number provided by the user using a while loop.\u001b[0m\n\u001b[0m                ^\u001b[0m\n\u001b[0;31mSyntaxError\u001b[0m\u001b[0;31m:\u001b[0m invalid syntax\n"
          ]
        }
      ]
    }
  ],
  "metadata": {
    "colab": {
      "provenance": []
    },
    "kernelspec": {
      "display_name": "Python 3",
      "name": "python3"
    },
    "language_info": {
      "name": "python"
    }
  },
  "nbformat": 4,
  "nbformat_minor": 0
}